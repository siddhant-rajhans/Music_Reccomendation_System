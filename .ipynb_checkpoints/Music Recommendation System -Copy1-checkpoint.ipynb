{
 "cells": [
  {
   "cell_type": "markdown",
   "id": "cba07c14",
   "metadata": {},
   "source": [
    "#### Import Libraries"
   ]
  },
  {
   "cell_type": "code",
   "execution_count": null,
   "id": "c4be5880",
   "metadata": {},
   "outputs": [],
   "source": [
    "import pandas as pd\n",
    "import numpy as np\n",
    "import matplotlib.pyplot as plt\n",
    "import seaborn as sns\n",
    "import Collaborate as Collab"
   ]
  },
  {
   "cell_type": "code",
   "execution_count": 3,
   "id": "88cc59cd",
   "metadata": {},
   "outputs": [],
   "source": [
    "from scipy.sparse import csr_matrix"
   ]
  },
  {
   "cell_type": "code",
   "execution_count": 7,
   "id": "281ea011",
   "metadata": {},
   "outputs": [
    {
     "data": {
      "text/html": [
       "<div>\n",
       "<style scoped>\n",
       "    .dataframe tbody tr th:only-of-type {\n",
       "        vertical-align: middle;\n",
       "    }\n",
       "\n",
       "    .dataframe tbody tr th {\n",
       "        vertical-align: top;\n",
       "    }\n",
       "\n",
       "    .dataframe thead th {\n",
       "        text-align: right;\n",
       "    }\n",
       "</style>\n",
       "<table border=\"1\" class=\"dataframe\">\n",
       "  <thead>\n",
       "    <tr style=\"text-align: right;\">\n",
       "      <th></th>\n",
       "      <th>song_id</th>\n",
       "      <th>title</th>\n",
       "      <th>release</th>\n",
       "      <th>artist_name</th>\n",
       "      <th>year</th>\n",
       "    </tr>\n",
       "  </thead>\n",
       "  <tbody>\n",
       "    <tr>\n",
       "      <th>0</th>\n",
       "      <td>SOQMMHC12AB0180CB8</td>\n",
       "      <td>Silent Night</td>\n",
       "      <td>Monster Ballads X-Mas</td>\n",
       "      <td>Faster Pussy cat</td>\n",
       "      <td>2003</td>\n",
       "    </tr>\n",
       "    <tr>\n",
       "      <th>1</th>\n",
       "      <td>SOVFVAK12A8C1350D9</td>\n",
       "      <td>Tanssi vaan</td>\n",
       "      <td>Karkuteillä</td>\n",
       "      <td>Karkkiautomaatti</td>\n",
       "      <td>1995</td>\n",
       "    </tr>\n",
       "    <tr>\n",
       "      <th>2</th>\n",
       "      <td>SOGTUKN12AB017F4F1</td>\n",
       "      <td>No One Could Ever</td>\n",
       "      <td>Butter</td>\n",
       "      <td>Hudson Mohawke</td>\n",
       "      <td>2006</td>\n",
       "    </tr>\n",
       "    <tr>\n",
       "      <th>3</th>\n",
       "      <td>SOBNYVR12A8C13558C</td>\n",
       "      <td>Si Vos Querés</td>\n",
       "      <td>De Culo</td>\n",
       "      <td>Yerba Brava</td>\n",
       "      <td>2003</td>\n",
       "    </tr>\n",
       "    <tr>\n",
       "      <th>4</th>\n",
       "      <td>SOHSBXH12A8C13B0DF</td>\n",
       "      <td>Tangle Of Aspens</td>\n",
       "      <td>Rene Ablaze Presents Winter Sessions</td>\n",
       "      <td>Der Mystic</td>\n",
       "      <td>0</td>\n",
       "    </tr>\n",
       "  </tbody>\n",
       "</table>\n",
       "</div>"
      ],
      "text/plain": [
       "              song_id              title  \\\n",
       "0  SOQMMHC12AB0180CB8       Silent Night   \n",
       "1  SOVFVAK12A8C1350D9        Tanssi vaan   \n",
       "2  SOGTUKN12AB017F4F1  No One Could Ever   \n",
       "3  SOBNYVR12A8C13558C      Si Vos Querés   \n",
       "4  SOHSBXH12A8C13B0DF   Tangle Of Aspens   \n",
       "\n",
       "                                release       artist_name  year  \n",
       "0                 Monster Ballads X-Mas  Faster Pussy cat  2003  \n",
       "1                           Karkuteillä  Karkkiautomaatti  1995  \n",
       "2                                Butter    Hudson Mohawke  2006  \n",
       "3                               De Culo       Yerba Brava  2003  \n",
       "4  Rene Ablaze Presents Winter Sessions        Der Mystic     0  "
      ]
     },
     "execution_count": 7,
     "metadata": {},
     "output_type": "execute_result"
    }
   ],
   "source": [
    "df_song_1 = pd.read_csv('song_data (1).csv')\n",
    "df_song_1.head()"
   ]
  },
  {
   "cell_type": "code",
   "execution_count": 8,
   "id": "d833c17a",
   "metadata": {},
   "outputs": [
    {
     "data": {
      "text/html": [
       "<div>\n",
       "<style scoped>\n",
       "    .dataframe tbody tr th:only-of-type {\n",
       "        vertical-align: middle;\n",
       "    }\n",
       "\n",
       "    .dataframe tbody tr th {\n",
       "        vertical-align: top;\n",
       "    }\n",
       "\n",
       "    .dataframe thead th {\n",
       "        text-align: right;\n",
       "    }\n",
       "</style>\n",
       "<table border=\"1\" class=\"dataframe\">\n",
       "  <thead>\n",
       "    <tr style=\"text-align: right;\">\n",
       "      <th></th>\n",
       "      <th>user_id</th>\n",
       "      <th>song_id</th>\n",
       "      <th>listen_count</th>\n",
       "    </tr>\n",
       "  </thead>\n",
       "  <tbody>\n",
       "    <tr>\n",
       "      <th>0</th>\n",
       "      <td>b80344d063b5ccb3212f76538f3d9e43d87dca9e</td>\n",
       "      <td>SOAKIMP12A8C130995</td>\n",
       "      <td>1</td>\n",
       "    </tr>\n",
       "    <tr>\n",
       "      <th>1</th>\n",
       "      <td>b80344d063b5ccb3212f76538f3d9e43d87dca9e</td>\n",
       "      <td>SOBBMDR12A8C13253B</td>\n",
       "      <td>2</td>\n",
       "    </tr>\n",
       "    <tr>\n",
       "      <th>2</th>\n",
       "      <td>b80344d063b5ccb3212f76538f3d9e43d87dca9e</td>\n",
       "      <td>SOBXHDL12A81C204C0</td>\n",
       "      <td>1</td>\n",
       "    </tr>\n",
       "    <tr>\n",
       "      <th>3</th>\n",
       "      <td>b80344d063b5ccb3212f76538f3d9e43d87dca9e</td>\n",
       "      <td>SOBYHAJ12A6701BF1D</td>\n",
       "      <td>1</td>\n",
       "    </tr>\n",
       "    <tr>\n",
       "      <th>4</th>\n",
       "      <td>b80344d063b5ccb3212f76538f3d9e43d87dca9e</td>\n",
       "      <td>SODACBL12A8C13C273</td>\n",
       "      <td>1</td>\n",
       "    </tr>\n",
       "  </tbody>\n",
       "</table>\n",
       "</div>"
      ],
      "text/plain": [
       "                                    user_id             song_id  listen_count\n",
       "0  b80344d063b5ccb3212f76538f3d9e43d87dca9e  SOAKIMP12A8C130995             1\n",
       "1  b80344d063b5ccb3212f76538f3d9e43d87dca9e  SOBBMDR12A8C13253B             2\n",
       "2  b80344d063b5ccb3212f76538f3d9e43d87dca9e  SOBXHDL12A81C204C0             1\n",
       "3  b80344d063b5ccb3212f76538f3d9e43d87dca9e  SOBYHAJ12A6701BF1D             1\n",
       "4  b80344d063b5ccb3212f76538f3d9e43d87dca9e  SODACBL12A8C13C273             1"
      ]
     },
     "execution_count": 8,
     "metadata": {},
     "output_type": "execute_result"
    }
   ],
   "source": [
    "df_song_2 = pd.read_csv('triplets_file.csv')\n",
    "df_song_2.head()"
   ]
  },
  {
   "cell_type": "markdown",
   "id": "4feb658a",
   "metadata": {},
   "source": [
    "#### Data Preprocessing"
   ]
  },
  {
   "cell_type": "code",
   "execution_count": 9,
   "id": "a7bbd5ec",
   "metadata": {},
   "outputs": [
    {
     "data": {
      "text/html": [
       "<div>\n",
       "<style scoped>\n",
       "    .dataframe tbody tr th:only-of-type {\n",
       "        vertical-align: middle;\n",
       "    }\n",
       "\n",
       "    .dataframe tbody tr th {\n",
       "        vertical-align: top;\n",
       "    }\n",
       "\n",
       "    .dataframe thead th {\n",
       "        text-align: right;\n",
       "    }\n",
       "</style>\n",
       "<table border=\"1\" class=\"dataframe\">\n",
       "  <thead>\n",
       "    <tr style=\"text-align: right;\">\n",
       "      <th></th>\n",
       "      <th>song_id</th>\n",
       "      <th>title</th>\n",
       "      <th>release</th>\n",
       "      <th>artist_name</th>\n",
       "      <th>year</th>\n",
       "    </tr>\n",
       "  </thead>\n",
       "  <tbody>\n",
       "    <tr>\n",
       "      <th>0</th>\n",
       "      <td>SOQMMHC12AB0180CB8</td>\n",
       "      <td>Silent Night</td>\n",
       "      <td>Monster Ballads X-Mas</td>\n",
       "      <td>Faster Pussy cat</td>\n",
       "      <td>2003</td>\n",
       "    </tr>\n",
       "    <tr>\n",
       "      <th>1</th>\n",
       "      <td>SOVFVAK12A8C1350D9</td>\n",
       "      <td>Tanssi vaan</td>\n",
       "      <td>Karkuteillä</td>\n",
       "      <td>Karkkiautomaatti</td>\n",
       "      <td>1995</td>\n",
       "    </tr>\n",
       "    <tr>\n",
       "      <th>2</th>\n",
       "      <td>SOGTUKN12AB017F4F1</td>\n",
       "      <td>No One Could Ever</td>\n",
       "      <td>Butter</td>\n",
       "      <td>Hudson Mohawke</td>\n",
       "      <td>2006</td>\n",
       "    </tr>\n",
       "    <tr>\n",
       "      <th>3</th>\n",
       "      <td>SOBNYVR12A8C13558C</td>\n",
       "      <td>Si Vos Querés</td>\n",
       "      <td>De Culo</td>\n",
       "      <td>Yerba Brava</td>\n",
       "      <td>2003</td>\n",
       "    </tr>\n",
       "    <tr>\n",
       "      <th>4</th>\n",
       "      <td>SOHSBXH12A8C13B0DF</td>\n",
       "      <td>Tangle Of Aspens</td>\n",
       "      <td>Rene Ablaze Presents Winter Sessions</td>\n",
       "      <td>Der Mystic</td>\n",
       "      <td>0</td>\n",
       "    </tr>\n",
       "    <tr>\n",
       "      <th>...</th>\n",
       "      <td>...</td>\n",
       "      <td>...</td>\n",
       "      <td>...</td>\n",
       "      <td>...</td>\n",
       "      <td>...</td>\n",
       "    </tr>\n",
       "    <tr>\n",
       "      <th>999995</th>\n",
       "      <td>SOTXAME12AB018F136</td>\n",
       "      <td>O Samba Da Vida</td>\n",
       "      <td>Pacha V.I.P.</td>\n",
       "      <td>Kiko Navarro</td>\n",
       "      <td>0</td>\n",
       "    </tr>\n",
       "    <tr>\n",
       "      <th>999996</th>\n",
       "      <td>SOXQYIQ12A8C137FBB</td>\n",
       "      <td>Jago Chhadeo</td>\n",
       "      <td>Naale Baba Lassi Pee Gya</td>\n",
       "      <td>Kuldeep Manak</td>\n",
       "      <td>0</td>\n",
       "    </tr>\n",
       "    <tr>\n",
       "      <th>999997</th>\n",
       "      <td>SOHODZI12A8C137BB3</td>\n",
       "      <td>Novemba</td>\n",
       "      <td>Dub_Connected: electronic music</td>\n",
       "      <td>Gabriel Le Mar</td>\n",
       "      <td>0</td>\n",
       "    </tr>\n",
       "    <tr>\n",
       "      <th>999998</th>\n",
       "      <td>SOLXGOR12A81C21EB7</td>\n",
       "      <td>Faraday</td>\n",
       "      <td>The Trance Collection Vol. 2</td>\n",
       "      <td>Elude</td>\n",
       "      <td>0</td>\n",
       "    </tr>\n",
       "    <tr>\n",
       "      <th>999999</th>\n",
       "      <td>SOWXJXQ12AB0189F43</td>\n",
       "      <td>Fernweh feat. Sektion Kuchikäschtli</td>\n",
       "      <td>So Oder So</td>\n",
       "      <td>Texta</td>\n",
       "      <td>2004</td>\n",
       "    </tr>\n",
       "  </tbody>\n",
       "</table>\n",
       "<p>999056 rows × 5 columns</p>\n",
       "</div>"
      ],
      "text/plain": [
       "                   song_id                                title  \\\n",
       "0       SOQMMHC12AB0180CB8                         Silent Night   \n",
       "1       SOVFVAK12A8C1350D9                          Tanssi vaan   \n",
       "2       SOGTUKN12AB017F4F1                    No One Could Ever   \n",
       "3       SOBNYVR12A8C13558C                        Si Vos Querés   \n",
       "4       SOHSBXH12A8C13B0DF                     Tangle Of Aspens   \n",
       "...                    ...                                  ...   \n",
       "999995  SOTXAME12AB018F136                      O Samba Da Vida   \n",
       "999996  SOXQYIQ12A8C137FBB                         Jago Chhadeo   \n",
       "999997  SOHODZI12A8C137BB3                              Novemba   \n",
       "999998  SOLXGOR12A81C21EB7                              Faraday   \n",
       "999999  SOWXJXQ12AB0189F43  Fernweh feat. Sektion Kuchikäschtli   \n",
       "\n",
       "                                     release       artist_name  year  \n",
       "0                      Monster Ballads X-Mas  Faster Pussy cat  2003  \n",
       "1                                Karkuteillä  Karkkiautomaatti  1995  \n",
       "2                                     Butter    Hudson Mohawke  2006  \n",
       "3                                    De Culo       Yerba Brava  2003  \n",
       "4       Rene Ablaze Presents Winter Sessions        Der Mystic     0  \n",
       "...                                      ...               ...   ...  \n",
       "999995                          Pacha V.I.P.      Kiko Navarro     0  \n",
       "999996              Naale Baba Lassi Pee Gya     Kuldeep Manak     0  \n",
       "999997       Dub_Connected: electronic music    Gabriel Le Mar     0  \n",
       "999998          The Trance Collection Vol. 2             Elude     0  \n",
       "999999                            So Oder So             Texta  2004  \n",
       "\n",
       "[999056 rows x 5 columns]"
      ]
     },
     "execution_count": 9,
     "metadata": {},
     "output_type": "execute_result"
    }
   ],
   "source": [
    "df_song_1.drop_duplicates(['song_id'])"
   ]
  },
  {
   "cell_type": "code",
   "execution_count": 10,
   "id": "132ff406",
   "metadata": {},
   "outputs": [
    {
     "data": {
      "text/html": [
       "<div>\n",
       "<style scoped>\n",
       "    .dataframe tbody tr th:only-of-type {\n",
       "        vertical-align: middle;\n",
       "    }\n",
       "\n",
       "    .dataframe tbody tr th {\n",
       "        vertical-align: top;\n",
       "    }\n",
       "\n",
       "    .dataframe thead th {\n",
       "        text-align: right;\n",
       "    }\n",
       "</style>\n",
       "<table border=\"1\" class=\"dataframe\">\n",
       "  <thead>\n",
       "    <tr style=\"text-align: right;\">\n",
       "      <th></th>\n",
       "      <th>song_id</th>\n",
       "      <th>title</th>\n",
       "      <th>release</th>\n",
       "      <th>artist_name</th>\n",
       "      <th>year</th>\n",
       "      <th>user_id</th>\n",
       "      <th>listen_count</th>\n",
       "    </tr>\n",
       "  </thead>\n",
       "  <tbody>\n",
       "    <tr>\n",
       "      <th>0</th>\n",
       "      <td>SOAKIMP12A8C130995</td>\n",
       "      <td>The Cove</td>\n",
       "      <td>Thicker Than Water</td>\n",
       "      <td>Jack Johnson</td>\n",
       "      <td>0</td>\n",
       "      <td>b80344d063b5ccb3212f76538f3d9e43d87dca9e</td>\n",
       "      <td>1</td>\n",
       "    </tr>\n",
       "    <tr>\n",
       "      <th>1</th>\n",
       "      <td>SOBBMDR12A8C13253B</td>\n",
       "      <td>Entre Dos Aguas</td>\n",
       "      <td>Flamenco Para Niños</td>\n",
       "      <td>Paco De Lucia</td>\n",
       "      <td>1976</td>\n",
       "      <td>b80344d063b5ccb3212f76538f3d9e43d87dca9e</td>\n",
       "      <td>2</td>\n",
       "    </tr>\n",
       "    <tr>\n",
       "      <th>2</th>\n",
       "      <td>SOBXHDL12A81C204C0</td>\n",
       "      <td>Stronger</td>\n",
       "      <td>Graduation</td>\n",
       "      <td>Kanye West</td>\n",
       "      <td>2007</td>\n",
       "      <td>b80344d063b5ccb3212f76538f3d9e43d87dca9e</td>\n",
       "      <td>1</td>\n",
       "    </tr>\n",
       "    <tr>\n",
       "      <th>3</th>\n",
       "      <td>SOBYHAJ12A6701BF1D</td>\n",
       "      <td>Constellations</td>\n",
       "      <td>In Between Dreams</td>\n",
       "      <td>Jack Johnson</td>\n",
       "      <td>2005</td>\n",
       "      <td>b80344d063b5ccb3212f76538f3d9e43d87dca9e</td>\n",
       "      <td>1</td>\n",
       "    </tr>\n",
       "    <tr>\n",
       "      <th>4</th>\n",
       "      <td>SODACBL12A8C13C273</td>\n",
       "      <td>Learn To Fly</td>\n",
       "      <td>There Is Nothing Left To Lose</td>\n",
       "      <td>Foo Fighters</td>\n",
       "      <td>1999</td>\n",
       "      <td>b80344d063b5ccb3212f76538f3d9e43d87dca9e</td>\n",
       "      <td>1</td>\n",
       "    </tr>\n",
       "  </tbody>\n",
       "</table>\n",
       "</div>"
      ],
      "text/plain": [
       "              song_id            title                        release  \\\n",
       "0  SOAKIMP12A8C130995         The Cove             Thicker Than Water   \n",
       "1  SOBBMDR12A8C13253B  Entre Dos Aguas            Flamenco Para Niños   \n",
       "2  SOBXHDL12A81C204C0         Stronger                     Graduation   \n",
       "3  SOBYHAJ12A6701BF1D   Constellations              In Between Dreams   \n",
       "4  SODACBL12A8C13C273     Learn To Fly  There Is Nothing Left To Lose   \n",
       "\n",
       "     artist_name  year                                   user_id  listen_count  \n",
       "0   Jack Johnson     0  b80344d063b5ccb3212f76538f3d9e43d87dca9e             1  \n",
       "1  Paco De Lucia  1976  b80344d063b5ccb3212f76538f3d9e43d87dca9e             2  \n",
       "2     Kanye West  2007  b80344d063b5ccb3212f76538f3d9e43d87dca9e             1  \n",
       "3   Jack Johnson  2005  b80344d063b5ccb3212f76538f3d9e43d87dca9e             1  \n",
       "4   Foo Fighters  1999  b80344d063b5ccb3212f76538f3d9e43d87dca9e             1  "
      ]
     },
     "execution_count": 10,
     "metadata": {},
     "output_type": "execute_result"
    }
   ],
   "source": [
    "# combining both data\n",
    "df_song_com = pd.merge(df_song_1.drop_duplicates(['song_id']), df_song_2, on='song_id', how='right')\n",
    "df_song_com.head()"
   ]
  },
  {
   "cell_type": "code",
   "execution_count": 11,
   "id": "5f5b842e",
   "metadata": {
    "scrolled": true
   },
   "outputs": [
    {
     "data": {
      "text/html": [
       "<div>\n",
       "<style scoped>\n",
       "    .dataframe tbody tr th:only-of-type {\n",
       "        vertical-align: middle;\n",
       "    }\n",
       "\n",
       "    .dataframe tbody tr th {\n",
       "        vertical-align: top;\n",
       "    }\n",
       "\n",
       "    .dataframe thead th {\n",
       "        text-align: right;\n",
       "    }\n",
       "</style>\n",
       "<table border=\"1\" class=\"dataframe\">\n",
       "  <thead>\n",
       "    <tr style=\"text-align: right;\">\n",
       "      <th></th>\n",
       "      <th>year</th>\n",
       "      <th>listen_count</th>\n",
       "    </tr>\n",
       "  </thead>\n",
       "  <tbody>\n",
       "    <tr>\n",
       "      <th>count</th>\n",
       "      <td>2.000000e+06</td>\n",
       "      <td>2.000000e+06</td>\n",
       "    </tr>\n",
       "    <tr>\n",
       "      <th>mean</th>\n",
       "      <td>1.628645e+03</td>\n",
       "      <td>3.045485e+00</td>\n",
       "    </tr>\n",
       "    <tr>\n",
       "      <th>std</th>\n",
       "      <td>7.787283e+02</td>\n",
       "      <td>6.579720e+00</td>\n",
       "    </tr>\n",
       "    <tr>\n",
       "      <th>min</th>\n",
       "      <td>0.000000e+00</td>\n",
       "      <td>1.000000e+00</td>\n",
       "    </tr>\n",
       "    <tr>\n",
       "      <th>25%</th>\n",
       "      <td>1.984000e+03</td>\n",
       "      <td>1.000000e+00</td>\n",
       "    </tr>\n",
       "    <tr>\n",
       "      <th>50%</th>\n",
       "      <td>2.002000e+03</td>\n",
       "      <td>1.000000e+00</td>\n",
       "    </tr>\n",
       "    <tr>\n",
       "      <th>75%</th>\n",
       "      <td>2.007000e+03</td>\n",
       "      <td>3.000000e+00</td>\n",
       "    </tr>\n",
       "    <tr>\n",
       "      <th>max</th>\n",
       "      <td>2.010000e+03</td>\n",
       "      <td>2.213000e+03</td>\n",
       "    </tr>\n",
       "  </tbody>\n",
       "</table>\n",
       "</div>"
      ],
      "text/plain": [
       "               year  listen_count\n",
       "count  2.000000e+06  2.000000e+06\n",
       "mean   1.628645e+03  3.045485e+00\n",
       "std    7.787283e+02  6.579720e+00\n",
       "min    0.000000e+00  1.000000e+00\n",
       "25%    1.984000e+03  1.000000e+00\n",
       "50%    2.002000e+03  1.000000e+00\n",
       "75%    2.007000e+03  3.000000e+00\n",
       "max    2.010000e+03  2.213000e+03"
      ]
     },
     "execution_count": 11,
     "metadata": {},
     "output_type": "execute_result"
    }
   ],
   "source": [
    "df_song_com.describe()"
   ]
  },
  {
   "cell_type": "code",
   "execution_count": 12,
   "id": "27cb3dfd",
   "metadata": {},
   "outputs": [
    {
     "data": {
      "text/plain": [
       "(2000000, 7)"
      ]
     },
     "execution_count": 12,
     "metadata": {},
     "output_type": "execute_result"
    }
   ],
   "source": [
    "df_song_com.shape"
   ]
  },
  {
   "cell_type": "markdown",
   "id": "4849201e",
   "metadata": {},
   "source": [
    "#### Feature Extraction"
   ]
  },
  {
   "cell_type": "code",
   "execution_count": 13,
   "id": "ee65e6e8",
   "metadata": {},
   "outputs": [
    {
     "data": {
      "text/html": [
       "<div>\n",
       "<style scoped>\n",
       "    .dataframe tbody tr th:only-of-type {\n",
       "        vertical-align: middle;\n",
       "    }\n",
       "\n",
       "    .dataframe tbody tr th {\n",
       "        vertical-align: top;\n",
       "    }\n",
       "\n",
       "    .dataframe thead th {\n",
       "        text-align: right;\n",
       "    }\n",
       "</style>\n",
       "<table border=\"1\" class=\"dataframe\">\n",
       "  <thead>\n",
       "    <tr style=\"text-align: right;\">\n",
       "      <th></th>\n",
       "      <th>song_id</th>\n",
       "      <th>title</th>\n",
       "      <th>release</th>\n",
       "      <th>artist_name</th>\n",
       "      <th>year</th>\n",
       "      <th>user_id</th>\n",
       "      <th>listen_count</th>\n",
       "      <th>song</th>\n",
       "    </tr>\n",
       "  </thead>\n",
       "  <tbody>\n",
       "    <tr>\n",
       "      <th>0</th>\n",
       "      <td>SOAKIMP12A8C130995</td>\n",
       "      <td>The Cove</td>\n",
       "      <td>Thicker Than Water</td>\n",
       "      <td>Jack Johnson</td>\n",
       "      <td>0</td>\n",
       "      <td>b80344d063b5ccb3212f76538f3d9e43d87dca9e</td>\n",
       "      <td>1</td>\n",
       "      <td>The Cove - Jack Johnson</td>\n",
       "    </tr>\n",
       "    <tr>\n",
       "      <th>1</th>\n",
       "      <td>SOBBMDR12A8C13253B</td>\n",
       "      <td>Entre Dos Aguas</td>\n",
       "      <td>Flamenco Para Niños</td>\n",
       "      <td>Paco De Lucia</td>\n",
       "      <td>1976</td>\n",
       "      <td>b80344d063b5ccb3212f76538f3d9e43d87dca9e</td>\n",
       "      <td>2</td>\n",
       "      <td>Entre Dos Aguas - Paco De Lucia</td>\n",
       "    </tr>\n",
       "    <tr>\n",
       "      <th>2</th>\n",
       "      <td>SOBXHDL12A81C204C0</td>\n",
       "      <td>Stronger</td>\n",
       "      <td>Graduation</td>\n",
       "      <td>Kanye West</td>\n",
       "      <td>2007</td>\n",
       "      <td>b80344d063b5ccb3212f76538f3d9e43d87dca9e</td>\n",
       "      <td>1</td>\n",
       "      <td>Stronger - Kanye West</td>\n",
       "    </tr>\n",
       "    <tr>\n",
       "      <th>3</th>\n",
       "      <td>SOBYHAJ12A6701BF1D</td>\n",
       "      <td>Constellations</td>\n",
       "      <td>In Between Dreams</td>\n",
       "      <td>Jack Johnson</td>\n",
       "      <td>2005</td>\n",
       "      <td>b80344d063b5ccb3212f76538f3d9e43d87dca9e</td>\n",
       "      <td>1</td>\n",
       "      <td>Constellations - Jack Johnson</td>\n",
       "    </tr>\n",
       "    <tr>\n",
       "      <th>4</th>\n",
       "      <td>SODACBL12A8C13C273</td>\n",
       "      <td>Learn To Fly</td>\n",
       "      <td>There Is Nothing Left To Lose</td>\n",
       "      <td>Foo Fighters</td>\n",
       "      <td>1999</td>\n",
       "      <td>b80344d063b5ccb3212f76538f3d9e43d87dca9e</td>\n",
       "      <td>1</td>\n",
       "      <td>Learn To Fly - Foo Fighters</td>\n",
       "    </tr>\n",
       "  </tbody>\n",
       "</table>\n",
       "</div>"
      ],
      "text/plain": [
       "              song_id            title                        release  \\\n",
       "0  SOAKIMP12A8C130995         The Cove             Thicker Than Water   \n",
       "1  SOBBMDR12A8C13253B  Entre Dos Aguas            Flamenco Para Niños   \n",
       "2  SOBXHDL12A81C204C0         Stronger                     Graduation   \n",
       "3  SOBYHAJ12A6701BF1D   Constellations              In Between Dreams   \n",
       "4  SODACBL12A8C13C273     Learn To Fly  There Is Nothing Left To Lose   \n",
       "\n",
       "     artist_name  year                                   user_id  \\\n",
       "0   Jack Johnson     0  b80344d063b5ccb3212f76538f3d9e43d87dca9e   \n",
       "1  Paco De Lucia  1976  b80344d063b5ccb3212f76538f3d9e43d87dca9e   \n",
       "2     Kanye West  2007  b80344d063b5ccb3212f76538f3d9e43d87dca9e   \n",
       "3   Jack Johnson  2005  b80344d063b5ccb3212f76538f3d9e43d87dca9e   \n",
       "4   Foo Fighters  1999  b80344d063b5ccb3212f76538f3d9e43d87dca9e   \n",
       "\n",
       "   listen_count                             song  \n",
       "0             1          The Cove - Jack Johnson  \n",
       "1             2  Entre Dos Aguas - Paco De Lucia  \n",
       "2             1            Stronger - Kanye West  \n",
       "3             1    Constellations - Jack Johnson  \n",
       "4             1      Learn To Fly - Foo Fighters  "
      ]
     },
     "execution_count": 13,
     "metadata": {},
     "output_type": "execute_result"
    }
   ],
   "source": [
    "# creating new feature combining title and artist name\n",
    "df_song_com['song'] = df_song_com['title']+' - '+df_song_com['artist_name']\n",
    "df_song_com.head()"
   ]
  },
  {
   "cell_type": "code",
   "execution_count": 14,
   "id": "e677cbde",
   "metadata": {},
   "outputs": [
    {
     "data": {
      "text/plain": [
       "song_id         0\n",
       "title           0\n",
       "release         0\n",
       "artist_name     0\n",
       "year            0\n",
       "user_id         0\n",
       "listen_count    0\n",
       "song            0\n",
       "dtype: int64"
      ]
     },
     "execution_count": 14,
     "metadata": {},
     "output_type": "execute_result"
    }
   ],
   "source": [
    "#checking null value\n",
    "df_song_com.isnull().sum()"
   ]
  },
  {
   "cell_type": "code",
   "execution_count": 15,
   "id": "3b7d88e3",
   "metadata": {},
   "outputs": [
    {
     "data": {
      "text/plain": [
       "(2000000, 8)"
      ]
     },
     "execution_count": 15,
     "metadata": {},
     "output_type": "execute_result"
    }
   ],
   "source": [
    "df_song_com.shape"
   ]
  },
  {
   "cell_type": "code",
   "execution_count": null,
   "id": "cbca6b10",
   "metadata": {},
   "outputs": [],
   "source": []
  },
  {
   "cell_type": "code",
   "execution_count": null,
   "id": "cfd3a06b",
   "metadata": {},
   "outputs": [],
   "source": []
  },
  {
   "cell_type": "code",
   "execution_count": 16,
   "id": "d4ad41ab",
   "metadata": {},
   "outputs": [
    {
     "data": {
      "text/html": [
       "<div>\n",
       "<style scoped>\n",
       "    .dataframe tbody tr th:only-of-type {\n",
       "        vertical-align: middle;\n",
       "    }\n",
       "\n",
       "    .dataframe tbody tr th {\n",
       "        vertical-align: top;\n",
       "    }\n",
       "\n",
       "    .dataframe thead th {\n",
       "        text-align: right;\n",
       "    }\n",
       "</style>\n",
       "<table border=\"1\" class=\"dataframe\">\n",
       "  <thead>\n",
       "    <tr style=\"text-align: right;\">\n",
       "      <th></th>\n",
       "      <th>year</th>\n",
       "      <th>listen_count</th>\n",
       "    </tr>\n",
       "  </thead>\n",
       "  <tbody>\n",
       "    <tr>\n",
       "      <th>count</th>\n",
       "      <td>2.000000e+06</td>\n",
       "      <td>2.000000e+06</td>\n",
       "    </tr>\n",
       "    <tr>\n",
       "      <th>mean</th>\n",
       "      <td>1.628645e+03</td>\n",
       "      <td>3.045485e+00</td>\n",
       "    </tr>\n",
       "    <tr>\n",
       "      <th>std</th>\n",
       "      <td>7.787283e+02</td>\n",
       "      <td>6.579720e+00</td>\n",
       "    </tr>\n",
       "    <tr>\n",
       "      <th>min</th>\n",
       "      <td>0.000000e+00</td>\n",
       "      <td>1.000000e+00</td>\n",
       "    </tr>\n",
       "    <tr>\n",
       "      <th>25%</th>\n",
       "      <td>1.984000e+03</td>\n",
       "      <td>1.000000e+00</td>\n",
       "    </tr>\n",
       "    <tr>\n",
       "      <th>50%</th>\n",
       "      <td>2.002000e+03</td>\n",
       "      <td>1.000000e+00</td>\n",
       "    </tr>\n",
       "    <tr>\n",
       "      <th>75%</th>\n",
       "      <td>2.007000e+03</td>\n",
       "      <td>3.000000e+00</td>\n",
       "    </tr>\n",
       "    <tr>\n",
       "      <th>max</th>\n",
       "      <td>2.010000e+03</td>\n",
       "      <td>2.213000e+03</td>\n",
       "    </tr>\n",
       "  </tbody>\n",
       "</table>\n",
       "</div>"
      ],
      "text/plain": [
       "               year  listen_count\n",
       "count  2.000000e+06  2.000000e+06\n",
       "mean   1.628645e+03  3.045485e+00\n",
       "std    7.787283e+02  6.579720e+00\n",
       "min    0.000000e+00  1.000000e+00\n",
       "25%    1.984000e+03  1.000000e+00\n",
       "50%    2.002000e+03  1.000000e+00\n",
       "75%    2.007000e+03  3.000000e+00\n",
       "max    2.010000e+03  2.213000e+03"
      ]
     },
     "execution_count": 16,
     "metadata": {},
     "output_type": "execute_result"
    }
   ],
   "source": [
    "df_song_com.describe()"
   ]
  },
  {
   "cell_type": "markdown",
   "id": "b75c37db",
   "metadata": {},
   "source": [
    "#### Data Splitting"
   ]
  },
  {
   "cell_type": "code",
   "execution_count": 26,
   "id": "e9938afd",
   "metadata": {},
   "outputs": [],
   "source": [
    "from sklearn.model_selection import train_test_split"
   ]
  },
  {
   "cell_type": "code",
   "execution_count": 27,
   "id": "9dc12110",
   "metadata": {},
   "outputs": [],
   "source": [
    "train_data, test_data = train_test_split(df_song_com, test_size = 0.30, random_state=0)"
   ]
  },
  {
   "cell_type": "code",
   "execution_count": 28,
   "id": "b320d2d8",
   "metadata": {},
   "outputs": [
    {
     "data": {
      "text/html": [
       "<div>\n",
       "<style scoped>\n",
       "    .dataframe tbody tr th:only-of-type {\n",
       "        vertical-align: middle;\n",
       "    }\n",
       "\n",
       "    .dataframe tbody tr th {\n",
       "        vertical-align: top;\n",
       "    }\n",
       "\n",
       "    .dataframe thead th {\n",
       "        text-align: right;\n",
       "    }\n",
       "</style>\n",
       "<table border=\"1\" class=\"dataframe\">\n",
       "  <thead>\n",
       "    <tr style=\"text-align: right;\">\n",
       "      <th></th>\n",
       "      <th>song_id</th>\n",
       "      <th>title</th>\n",
       "      <th>release</th>\n",
       "      <th>artist_name</th>\n",
       "      <th>year</th>\n",
       "      <th>user_id</th>\n",
       "      <th>listen_count</th>\n",
       "      <th>song</th>\n",
       "    </tr>\n",
       "  </thead>\n",
       "  <tbody>\n",
       "    <tr>\n",
       "      <th>563977</th>\n",
       "      <td>SOLPOOZ12A8C1370BD</td>\n",
       "      <td>What's Going On (Featuring Chuck D)</td>\n",
       "      <td>Time After Time: The Best Of</td>\n",
       "      <td>Cyndi Lauper</td>\n",
       "      <td>2000</td>\n",
       "      <td>7cbee28673fd18b6a59e4812692993c0f37e7e2f</td>\n",
       "      <td>1</td>\n",
       "      <td>What's Going On (Featuring Chuck D) - Cyndi La...</td>\n",
       "    </tr>\n",
       "    <tr>\n",
       "      <th>1600081</th>\n",
       "      <td>SOTWSXL12A8C143349</td>\n",
       "      <td>Love Story</td>\n",
       "      <td>Het Beste Uit De Top 40 - 2009</td>\n",
       "      <td>Taylor Swift</td>\n",
       "      <td>2008</td>\n",
       "      <td>d3f36ae840ddc4e5e7479a5d691b2ce779e1bd30</td>\n",
       "      <td>1</td>\n",
       "      <td>Love Story - Taylor Swift</td>\n",
       "    </tr>\n",
       "    <tr>\n",
       "      <th>1644853</th>\n",
       "      <td>SOEBLMX12A8C13DDD4</td>\n",
       "      <td>New Morning</td>\n",
       "      <td>New Morning</td>\n",
       "      <td>Sabrina Malheiros</td>\n",
       "      <td>2008</td>\n",
       "      <td>c346b02ee5c98eb151f48c52c9a39f135d0b3c0c</td>\n",
       "      <td>1</td>\n",
       "      <td>New Morning - Sabrina Malheiros</td>\n",
       "    </tr>\n",
       "    <tr>\n",
       "      <th>641460</th>\n",
       "      <td>SOEPZQS12A8C1436C7</td>\n",
       "      <td>Ghosts 'n' Stuff (Original Instrumental Mix)</td>\n",
       "      <td>Ghosts 'n' Stuff</td>\n",
       "      <td>Deadmau5</td>\n",
       "      <td>2009</td>\n",
       "      <td>dacc26406dfa7a8afa34a1b33871dcc8fbf77cc5</td>\n",
       "      <td>1</td>\n",
       "      <td>Ghosts 'n' Stuff (Original Instrumental Mix) -...</td>\n",
       "    </tr>\n",
       "    <tr>\n",
       "      <th>452992</th>\n",
       "      <td>SODHZZY12A81C217D7</td>\n",
       "      <td>Rise</td>\n",
       "      <td>Rise</td>\n",
       "      <td>Flobots</td>\n",
       "      <td>2007</td>\n",
       "      <td>2351057581ba945b6d23047fb8e5a370d6feaed8</td>\n",
       "      <td>1</td>\n",
       "      <td>Rise - Flobots</td>\n",
       "    </tr>\n",
       "    <tr>\n",
       "      <th>928502</th>\n",
       "      <td>SOHKXZN12AB0187281</td>\n",
       "      <td>Carry Me In Your Dreams (Albania)</td>\n",
       "      <td>Eurovision Song Contest 2009</td>\n",
       "      <td>Kejsi Tola</td>\n",
       "      <td>2009</td>\n",
       "      <td>2f40ca8c0f91cd157edcb96081049888534eb7f5</td>\n",
       "      <td>1</td>\n",
       "      <td>Carry Me In Your Dreams (Albania) - Kejsi Tola</td>\n",
       "    </tr>\n",
       "    <tr>\n",
       "      <th>1646668</th>\n",
       "      <td>SOYPBXB12A8AE4736D</td>\n",
       "      <td>Wonderlust King</td>\n",
       "      <td>Super Taranta!</td>\n",
       "      <td>Gogol Bordello</td>\n",
       "      <td>2005</td>\n",
       "      <td>0bbb2617c3edb0b78ac16915b31e8fa0bef36c45</td>\n",
       "      <td>1</td>\n",
       "      <td>Wonderlust King - Gogol Bordello</td>\n",
       "    </tr>\n",
       "    <tr>\n",
       "      <th>953407</th>\n",
       "      <td>SOIPYPB12A8C1360D4</td>\n",
       "      <td>My Immortal (Album Version)</td>\n",
       "      <td>Fallen</td>\n",
       "      <td>Evanescence</td>\n",
       "      <td>2003</td>\n",
       "      <td>05f295d6e673560cf34ad51f98f74358e5dc5715</td>\n",
       "      <td>1</td>\n",
       "      <td>My Immortal (Album Version) - Evanescence</td>\n",
       "    </tr>\n",
       "    <tr>\n",
       "      <th>307352</th>\n",
       "      <td>SODEAWL12AB0187032</td>\n",
       "      <td>American Idiot [feat. Green Day &amp; The Cast Of ...</td>\n",
       "      <td>The Original Broadway Cast Recording 'American...</td>\n",
       "      <td>Green Day</td>\n",
       "      <td>0</td>\n",
       "      <td>7a082f2a65663c36b1dfb41b544dea630443cad5</td>\n",
       "      <td>1</td>\n",
       "      <td>American Idiot [feat. Green Day &amp; The Cast Of ...</td>\n",
       "    </tr>\n",
       "    <tr>\n",
       "      <th>553860</th>\n",
       "      <td>SOHQNBP12AC468B2BC</td>\n",
       "      <td>The Writer</td>\n",
       "      <td>Lights</td>\n",
       "      <td>Ellie Goulding</td>\n",
       "      <td>2010</td>\n",
       "      <td>8705096a10144fdf759b2d8cf27508e92b4d9065</td>\n",
       "      <td>1</td>\n",
       "      <td>The Writer - Ellie Goulding</td>\n",
       "    </tr>\n",
       "  </tbody>\n",
       "</table>\n",
       "</div>"
      ],
      "text/plain": [
       "                    song_id  \\\n",
       "563977   SOLPOOZ12A8C1370BD   \n",
       "1600081  SOTWSXL12A8C143349   \n",
       "1644853  SOEBLMX12A8C13DDD4   \n",
       "641460   SOEPZQS12A8C1436C7   \n",
       "452992   SODHZZY12A81C217D7   \n",
       "928502   SOHKXZN12AB0187281   \n",
       "1646668  SOYPBXB12A8AE4736D   \n",
       "953407   SOIPYPB12A8C1360D4   \n",
       "307352   SODEAWL12AB0187032   \n",
       "553860   SOHQNBP12AC468B2BC   \n",
       "\n",
       "                                                     title  \\\n",
       "563977                 What's Going On (Featuring Chuck D)   \n",
       "1600081                                         Love Story   \n",
       "1644853                                        New Morning   \n",
       "641460        Ghosts 'n' Stuff (Original Instrumental Mix)   \n",
       "452992                                                Rise   \n",
       "928502                   Carry Me In Your Dreams (Albania)   \n",
       "1646668                                    Wonderlust King   \n",
       "953407                         My Immortal (Album Version)   \n",
       "307352   American Idiot [feat. Green Day & The Cast Of ...   \n",
       "553860                                          The Writer   \n",
       "\n",
       "                                                   release        artist_name  \\\n",
       "563977                        Time After Time: The Best Of       Cyndi Lauper   \n",
       "1600081                     Het Beste Uit De Top 40 - 2009       Taylor Swift   \n",
       "1644853                                        New Morning  Sabrina Malheiros   \n",
       "641460                                    Ghosts 'n' Stuff           Deadmau5   \n",
       "452992                                                Rise            Flobots   \n",
       "928502                        Eurovision Song Contest 2009         Kejsi Tola   \n",
       "1646668                                     Super Taranta!     Gogol Bordello   \n",
       "953407                                              Fallen        Evanescence   \n",
       "307352   The Original Broadway Cast Recording 'American...          Green Day   \n",
       "553860                                              Lights     Ellie Goulding   \n",
       "\n",
       "         year                                   user_id  listen_count  \\\n",
       "563977   2000  7cbee28673fd18b6a59e4812692993c0f37e7e2f             1   \n",
       "1600081  2008  d3f36ae840ddc4e5e7479a5d691b2ce779e1bd30             1   \n",
       "1644853  2008  c346b02ee5c98eb151f48c52c9a39f135d0b3c0c             1   \n",
       "641460   2009  dacc26406dfa7a8afa34a1b33871dcc8fbf77cc5             1   \n",
       "452992   2007  2351057581ba945b6d23047fb8e5a370d6feaed8             1   \n",
       "928502   2009  2f40ca8c0f91cd157edcb96081049888534eb7f5             1   \n",
       "1646668  2005  0bbb2617c3edb0b78ac16915b31e8fa0bef36c45             1   \n",
       "953407   2003  05f295d6e673560cf34ad51f98f74358e5dc5715             1   \n",
       "307352      0  7a082f2a65663c36b1dfb41b544dea630443cad5             1   \n",
       "553860   2010  8705096a10144fdf759b2d8cf27508e92b4d9065             1   \n",
       "\n",
       "                                                      song  \n",
       "563977   What's Going On (Featuring Chuck D) - Cyndi La...  \n",
       "1600081                          Love Story - Taylor Swift  \n",
       "1644853                    New Morning - Sabrina Malheiros  \n",
       "641460   Ghosts 'n' Stuff (Original Instrumental Mix) -...  \n",
       "452992                                      Rise - Flobots  \n",
       "928502      Carry Me In Your Dreams (Albania) - Kejsi Tola  \n",
       "1646668                   Wonderlust King - Gogol Bordello  \n",
       "953407           My Immortal (Album Version) - Evanescence  \n",
       "307352   American Idiot [feat. Green Day & The Cast Of ...  \n",
       "553860                         The Writer - Ellie Goulding  "
      ]
     },
     "execution_count": 28,
     "metadata": {},
     "output_type": "execute_result"
    }
   ],
   "source": [
    "train_data.head(10)"
   ]
  },
  {
   "cell_type": "code",
   "execution_count": 29,
   "id": "311c53f0",
   "metadata": {},
   "outputs": [],
   "source": [
    "df_song = train_data"
   ]
  },
  {
   "cell_type": "code",
   "execution_count": 30,
   "id": "a1af63a1",
   "metadata": {},
   "outputs": [
    {
     "data": {
      "text/plain": [
       "75893"
      ]
     },
     "execution_count": 30,
     "metadata": {},
     "output_type": "execute_result"
    }
   ],
   "source": [
    "unique_users = df_song['user_id'].unique()\n",
    "len(unique_users)"
   ]
  },
  {
   "cell_type": "code",
   "execution_count": 31,
   "id": "8d23dee6",
   "metadata": {},
   "outputs": [
    {
     "data": {
      "text/plain": [
       "9953"
      ]
     },
     "execution_count": 31,
     "metadata": {},
     "output_type": "execute_result"
    }
   ],
   "source": [
    "unique_songs = df_song['song'].unique()  \n",
    "len(unique_songs)"
   ]
  },
  {
   "cell_type": "code",
   "execution_count": 32,
   "id": "3a91e153",
   "metadata": {},
   "outputs": [
    {
     "data": {
      "text/plain": [
       "3375"
      ]
     },
     "execution_count": 32,
     "metadata": {},
     "output_type": "execute_result"
    }
   ],
   "source": [
    "unique_artists = df_song['artist_name'].unique()\n",
    "len(unique_artists)"
   ]
  },
  {
   "cell_type": "code",
   "execution_count": 33,
   "id": "cf745f8a",
   "metadata": {},
   "outputs": [
    {
     "data": {
      "text/plain": [
       "1      797003\n",
       "2      219126\n",
       "3       99978\n",
       "5       65088\n",
       "4       57986\n",
       "        ...  \n",
       "553         1\n",
       "676         1\n",
       "605         1\n",
       "295         1\n",
       "488         1\n",
       "Name: listen_count, Length: 276, dtype: int64"
      ]
     },
     "execution_count": 33,
     "metadata": {},
     "output_type": "execute_result"
    }
   ],
   "source": [
    "df_song['listen_count'].value_counts()"
   ]
  },
  {
   "cell_type": "code",
   "execution_count": 34,
   "id": "8de37ef8",
   "metadata": {},
   "outputs": [],
   "source": [
    "#grouping songs according to listen_count\n",
    "grouped_song = df_song.groupby(['song']).agg({'listen_count': 'count'}).reset_index()"
   ]
  },
  {
   "cell_type": "code",
   "execution_count": 24,
   "id": "304079b5",
   "metadata": {},
   "outputs": [
    {
     "data": {
      "text/html": [
       "<div>\n",
       "<style scoped>\n",
       "    .dataframe tbody tr th:only-of-type {\n",
       "        vertical-align: middle;\n",
       "    }\n",
       "\n",
       "    .dataframe tbody tr th {\n",
       "        vertical-align: top;\n",
       "    }\n",
       "\n",
       "    .dataframe thead th {\n",
       "        text-align: right;\n",
       "    }\n",
       "</style>\n",
       "<table border=\"1\" class=\"dataframe\">\n",
       "  <thead>\n",
       "    <tr style=\"text-align: right;\">\n",
       "      <th></th>\n",
       "      <th>song</th>\n",
       "      <th>listen_count</th>\n",
       "    </tr>\n",
       "  </thead>\n",
       "  <tbody>\n",
       "    <tr>\n",
       "      <th>0</th>\n",
       "      <td>#!*@ You Tonight [Featuring R. Kelly] (Explici...</td>\n",
       "      <td>60</td>\n",
       "    </tr>\n",
       "    <tr>\n",
       "      <th>1</th>\n",
       "      <td>#40 - DAVE MATTHEWS BAND</td>\n",
       "      <td>237</td>\n",
       "    </tr>\n",
       "    <tr>\n",
       "      <th>2</th>\n",
       "      <td>&amp; Down - Boys Noize</td>\n",
       "      <td>257</td>\n",
       "    </tr>\n",
       "    <tr>\n",
       "      <th>3</th>\n",
       "      <td>' Cello Song - Nick Drake</td>\n",
       "      <td>72</td>\n",
       "    </tr>\n",
       "    <tr>\n",
       "      <th>4</th>\n",
       "      <td>'97 Bonnie &amp; Clyde - Eminem</td>\n",
       "      <td>64</td>\n",
       "    </tr>\n",
       "    <tr>\n",
       "      <th>...</th>\n",
       "      <td>...</td>\n",
       "      <td>...</td>\n",
       "    </tr>\n",
       "    <tr>\n",
       "      <th>9948</th>\n",
       "      <td>the Love Song - K-OS</td>\n",
       "      <td>48</td>\n",
       "    </tr>\n",
       "    <tr>\n",
       "      <th>9949</th>\n",
       "      <td>you were there with me - Four Tet</td>\n",
       "      <td>57</td>\n",
       "    </tr>\n",
       "    <tr>\n",
       "      <th>9950</th>\n",
       "      <td>¡Viva La Gloria! (Album Version) - Green Day</td>\n",
       "      <td>121</td>\n",
       "    </tr>\n",
       "    <tr>\n",
       "      <th>9951</th>\n",
       "      <td>¿Lo Ves? [Piano Y Voz] - Alejandro Sanz</td>\n",
       "      <td>50</td>\n",
       "    </tr>\n",
       "    <tr>\n",
       "      <th>9952</th>\n",
       "      <td>Época - Gotan Project</td>\n",
       "      <td>130</td>\n",
       "    </tr>\n",
       "  </tbody>\n",
       "</table>\n",
       "<p>9953 rows × 2 columns</p>\n",
       "</div>"
      ],
      "text/plain": [
       "                                                   song  listen_count\n",
       "0     #!*@ You Tonight [Featuring R. Kelly] (Explici...            60\n",
       "1                              #40 - DAVE MATTHEWS BAND           237\n",
       "2                                   & Down - Boys Noize           257\n",
       "3                             ' Cello Song - Nick Drake            72\n",
       "4                           '97 Bonnie & Clyde - Eminem            64\n",
       "...                                                 ...           ...\n",
       "9948                               the Love Song - K-OS            48\n",
       "9949                  you were there with me - Four Tet            57\n",
       "9950       ¡Viva La Gloria! (Album Version) - Green Day           121\n",
       "9951            ¿Lo Ves? [Piano Y Voz] - Alejandro Sanz            50\n",
       "9952                              Época - Gotan Project           130\n",
       "\n",
       "[9953 rows x 2 columns]"
      ]
     },
     "execution_count": 24,
     "metadata": {},
     "output_type": "execute_result"
    }
   ],
   "source": [
    "grouped_song"
   ]
  },
  {
   "cell_type": "code",
   "execution_count": 35,
   "id": "2c9310a5",
   "metadata": {},
   "outputs": [],
   "source": [
    "sum_group = grouped_song['listen_count'].sum()"
   ]
  },
  {
   "cell_type": "code",
   "execution_count": 36,
   "id": "39b550ef",
   "metadata": {},
   "outputs": [],
   "source": [
    "grouped_song['percentage']  = grouped_song['listen_count'].div(sum_group)*100"
   ]
  },
  {
   "cell_type": "code",
   "execution_count": 37,
   "id": "941201a1",
   "metadata": {},
   "outputs": [
    {
     "data": {
      "text/html": [
       "<div>\n",
       "<style scoped>\n",
       "    .dataframe tbody tr th:only-of-type {\n",
       "        vertical-align: middle;\n",
       "    }\n",
       "\n",
       "    .dataframe tbody tr th {\n",
       "        vertical-align: top;\n",
       "    }\n",
       "\n",
       "    .dataframe thead th {\n",
       "        text-align: right;\n",
       "    }\n",
       "</style>\n",
       "<table border=\"1\" class=\"dataframe\">\n",
       "  <thead>\n",
       "    <tr style=\"text-align: right;\">\n",
       "      <th></th>\n",
       "      <th>song</th>\n",
       "      <th>listen_count</th>\n",
       "      <th>percentage</th>\n",
       "    </tr>\n",
       "  </thead>\n",
       "  <tbody>\n",
       "    <tr>\n",
       "      <th>0</th>\n",
       "      <td>#!*@ You Tonight [Featuring R. Kelly] (Explici...</td>\n",
       "      <td>60</td>\n",
       "      <td>0.004286</td>\n",
       "    </tr>\n",
       "    <tr>\n",
       "      <th>1</th>\n",
       "      <td>#40 - DAVE MATTHEWS BAND</td>\n",
       "      <td>237</td>\n",
       "      <td>0.016929</td>\n",
       "    </tr>\n",
       "    <tr>\n",
       "      <th>2</th>\n",
       "      <td>&amp; Down - Boys Noize</td>\n",
       "      <td>257</td>\n",
       "      <td>0.018357</td>\n",
       "    </tr>\n",
       "    <tr>\n",
       "      <th>3</th>\n",
       "      <td>' Cello Song - Nick Drake</td>\n",
       "      <td>72</td>\n",
       "      <td>0.005143</td>\n",
       "    </tr>\n",
       "    <tr>\n",
       "      <th>4</th>\n",
       "      <td>'97 Bonnie &amp; Clyde - Eminem</td>\n",
       "      <td>64</td>\n",
       "      <td>0.004571</td>\n",
       "    </tr>\n",
       "    <tr>\n",
       "      <th>...</th>\n",
       "      <td>...</td>\n",
       "      <td>...</td>\n",
       "      <td>...</td>\n",
       "    </tr>\n",
       "    <tr>\n",
       "      <th>9948</th>\n",
       "      <td>the Love Song - K-OS</td>\n",
       "      <td>48</td>\n",
       "      <td>0.003429</td>\n",
       "    </tr>\n",
       "    <tr>\n",
       "      <th>9949</th>\n",
       "      <td>you were there with me - Four Tet</td>\n",
       "      <td>57</td>\n",
       "      <td>0.004071</td>\n",
       "    </tr>\n",
       "    <tr>\n",
       "      <th>9950</th>\n",
       "      <td>¡Viva La Gloria! (Album Version) - Green Day</td>\n",
       "      <td>121</td>\n",
       "      <td>0.008643</td>\n",
       "    </tr>\n",
       "    <tr>\n",
       "      <th>9951</th>\n",
       "      <td>¿Lo Ves? [Piano Y Voz] - Alejandro Sanz</td>\n",
       "      <td>50</td>\n",
       "      <td>0.003571</td>\n",
       "    </tr>\n",
       "    <tr>\n",
       "      <th>9952</th>\n",
       "      <td>Época - Gotan Project</td>\n",
       "      <td>130</td>\n",
       "      <td>0.009286</td>\n",
       "    </tr>\n",
       "  </tbody>\n",
       "</table>\n",
       "<p>9953 rows × 3 columns</p>\n",
       "</div>"
      ],
      "text/plain": [
       "                                                   song  listen_count  \\\n",
       "0     #!*@ You Tonight [Featuring R. Kelly] (Explici...            60   \n",
       "1                              #40 - DAVE MATTHEWS BAND           237   \n",
       "2                                   & Down - Boys Noize           257   \n",
       "3                             ' Cello Song - Nick Drake            72   \n",
       "4                           '97 Bonnie & Clyde - Eminem            64   \n",
       "...                                                 ...           ...   \n",
       "9948                               the Love Song - K-OS            48   \n",
       "9949                  you were there with me - Four Tet            57   \n",
       "9950       ¡Viva La Gloria! (Album Version) - Green Day           121   \n",
       "9951            ¿Lo Ves? [Piano Y Voz] - Alejandro Sanz            50   \n",
       "9952                              Época - Gotan Project           130   \n",
       "\n",
       "      percentage  \n",
       "0       0.004286  \n",
       "1       0.016929  \n",
       "2       0.018357  \n",
       "3       0.005143  \n",
       "4       0.004571  \n",
       "...          ...  \n",
       "9948    0.003429  \n",
       "9949    0.004071  \n",
       "9950    0.008643  \n",
       "9951    0.003571  \n",
       "9952    0.009286  \n",
       "\n",
       "[9953 rows x 3 columns]"
      ]
     },
     "execution_count": 37,
     "metadata": {},
     "output_type": "execute_result"
    }
   ],
   "source": [
    "grouped_song"
   ]
  },
  {
   "cell_type": "markdown",
   "id": "2525fee9",
   "metadata": {},
   "source": [
    "#### Top 10 songs"
   ]
  },
  {
   "cell_type": "code",
   "execution_count": 38,
   "id": "5dd0d7c8",
   "metadata": {},
   "outputs": [],
   "source": [
    "order=grouped_song.sort_values(['listen_count', 'song'], ascending =[0,1])"
   ]
  },
  {
   "cell_type": "code",
   "execution_count": 39,
   "id": "e1a66ccc",
   "metadata": {},
   "outputs": [
    {
     "data": {
      "text/html": [
       "<div>\n",
       "<style scoped>\n",
       "    .dataframe tbody tr th:only-of-type {\n",
       "        vertical-align: middle;\n",
       "    }\n",
       "\n",
       "    .dataframe tbody tr th {\n",
       "        vertical-align: top;\n",
       "    }\n",
       "\n",
       "    .dataframe thead th {\n",
       "        text-align: right;\n",
       "    }\n",
       "</style>\n",
       "<table border=\"1\" class=\"dataframe\">\n",
       "  <thead>\n",
       "    <tr style=\"text-align: right;\">\n",
       "      <th></th>\n",
       "      <th>song</th>\n",
       "      <th>listen_count</th>\n",
       "      <th>percentage</th>\n",
       "    </tr>\n",
       "  </thead>\n",
       "  <tbody>\n",
       "    <tr>\n",
       "      <th>7127</th>\n",
       "      <td>Sehr kosmisch - Harmonia</td>\n",
       "      <td>5789</td>\n",
       "      <td>0.413500</td>\n",
       "    </tr>\n",
       "    <tr>\n",
       "      <th>9084</th>\n",
       "      <td>Undo - Björk</td>\n",
       "      <td>4937</td>\n",
       "      <td>0.352643</td>\n",
       "    </tr>\n",
       "    <tr>\n",
       "      <th>2068</th>\n",
       "      <td>Dog Days Are Over (Radio Edit) - Florence + Th...</td>\n",
       "      <td>4899</td>\n",
       "      <td>0.349929</td>\n",
       "    </tr>\n",
       "    <tr>\n",
       "      <th>9880</th>\n",
       "      <td>You're The One - Dwight Yoakam</td>\n",
       "      <td>4463</td>\n",
       "      <td>0.318786</td>\n",
       "    </tr>\n",
       "    <tr>\n",
       "      <th>6774</th>\n",
       "      <td>Revelry - Kings Of Leon</td>\n",
       "      <td>4338</td>\n",
       "      <td>0.309857</td>\n",
       "    </tr>\n",
       "    <tr>\n",
       "      <th>7115</th>\n",
       "      <td>Secrets - OneRepublic</td>\n",
       "      <td>4097</td>\n",
       "      <td>0.292643</td>\n",
       "    </tr>\n",
       "    <tr>\n",
       "      <th>3613</th>\n",
       "      <td>Horn Concerto No. 4 in E flat K495: II. Romanc...</td>\n",
       "      <td>3789</td>\n",
       "      <td>0.270643</td>\n",
       "    </tr>\n",
       "    <tr>\n",
       "      <th>2717</th>\n",
       "      <td>Fireflies - Charttraxx Karaoke</td>\n",
       "      <td>3357</td>\n",
       "      <td>0.239786</td>\n",
       "    </tr>\n",
       "    <tr>\n",
       "      <th>3485</th>\n",
       "      <td>Hey_ Soul Sister - Train</td>\n",
       "      <td>3320</td>\n",
       "      <td>0.237143</td>\n",
       "    </tr>\n",
       "    <tr>\n",
       "      <th>8847</th>\n",
       "      <td>Tive Sim - Cartola</td>\n",
       "      <td>3245</td>\n",
       "      <td>0.231786</td>\n",
       "    </tr>\n",
       "  </tbody>\n",
       "</table>\n",
       "</div>"
      ],
      "text/plain": [
       "                                                   song  listen_count  \\\n",
       "7127                           Sehr kosmisch - Harmonia          5789   \n",
       "9084                                       Undo - Björk          4937   \n",
       "2068  Dog Days Are Over (Radio Edit) - Florence + Th...          4899   \n",
       "9880                     You're The One - Dwight Yoakam          4463   \n",
       "6774                            Revelry - Kings Of Leon          4338   \n",
       "7115                              Secrets - OneRepublic          4097   \n",
       "3613  Horn Concerto No. 4 in E flat K495: II. Romanc...          3789   \n",
       "2717                     Fireflies - Charttraxx Karaoke          3357   \n",
       "3485                           Hey_ Soul Sister - Train          3320   \n",
       "8847                                 Tive Sim - Cartola          3245   \n",
       "\n",
       "      percentage  \n",
       "7127    0.413500  \n",
       "9084    0.352643  \n",
       "2068    0.349929  \n",
       "9880    0.318786  \n",
       "6774    0.309857  \n",
       "7115    0.292643  \n",
       "3613    0.270643  \n",
       "2717    0.239786  \n",
       "3485    0.237143  \n",
       "8847    0.231786  "
      ]
     },
     "execution_count": 39,
     "metadata": {},
     "output_type": "execute_result"
    }
   ],
   "source": [
    "top_ten_songs = order[:10]\n",
    "top_ten_songs"
   ]
  },
  {
   "cell_type": "code",
   "execution_count": 40,
   "id": "b053bade",
   "metadata": {},
   "outputs": [],
   "source": [
    "labels = top_ten_songs['song'].tolist()\n",
    "counts = top_ten_songs['listen_count'].tolist()"
   ]
  },
  {
   "cell_type": "code",
   "execution_count": 41,
   "id": "d2010201",
   "metadata": {
    "scrolled": true
   },
   "outputs": [
    {
     "data": {
      "image/png": "[encoded data removed]",
      "text/plain": [
       "<Figure size 432x288 with 1 Axes>"
      ]
     },
     "metadata": {
      "needs_background": "light"
     },
     "output_type": "display_data"
    }
   ],
   "source": [
    "plt.figure()\n",
    "sns.barplot(x=counts, y=labels, palette='Set3')\n",
    "sns.despine(left=True, bottom=True)"
   ]
  },
  {
   "cell_type": "markdown",
   "id": "6005ec56",
   "metadata": {},
   "source": [
    "#### Top 10 Artist"
   ]
  },
  {
   "cell_type": "code",
   "execution_count": 42,
   "id": "366fb6ba",
   "metadata": {},
   "outputs": [],
   "source": [
    "order_1 = df_song.groupby(['artist_name'])['listen_count'].count().reset_index().sort_values(['listen_count', 'artist_name'], \n",
    "                                                                                                ascending = [0,1])"
   ]
  },
  {
   "cell_type": "code",
   "execution_count": 43,
   "id": "5e93374d",
   "metadata": {},
   "outputs": [
    {
     "data": {
      "text/html": [
       "<div>\n",
       "<style scoped>\n",
       "    .dataframe tbody tr th:only-of-type {\n",
       "        vertical-align: middle;\n",
       "    }\n",
       "\n",
       "    .dataframe tbody tr th {\n",
       "        vertical-align: top;\n",
       "    }\n",
       "\n",
       "    .dataframe thead th {\n",
       "        text-align: right;\n",
       "    }\n",
       "</style>\n",
       "<table border=\"1\" class=\"dataframe\">\n",
       "  <thead>\n",
       "    <tr style=\"text-align: right;\">\n",
       "      <th></th>\n",
       "      <th>artist_name</th>\n",
       "      <th>listen_count</th>\n",
       "    </tr>\n",
       "  </thead>\n",
       "  <tbody>\n",
       "    <tr>\n",
       "      <th>649</th>\n",
       "      <td>Coldplay</td>\n",
       "      <td>20477</td>\n",
       "    </tr>\n",
       "    <tr>\n",
       "      <th>2850</th>\n",
       "      <td>The Black Keys</td>\n",
       "      <td>13971</td>\n",
       "    </tr>\n",
       "    <tr>\n",
       "      <th>1651</th>\n",
       "      <td>Kings Of Leon</td>\n",
       "      <td>13170</td>\n",
       "    </tr>\n",
       "    <tr>\n",
       "      <th>1107</th>\n",
       "      <td>Florence + The Machine</td>\n",
       "      <td>12725</td>\n",
       "    </tr>\n",
       "    <tr>\n",
       "      <th>1370</th>\n",
       "      <td>Jack Johnson</td>\n",
       "      <td>12482</td>\n",
       "    </tr>\n",
       "    <tr>\n",
       "      <th>2946</th>\n",
       "      <td>The Killers</td>\n",
       "      <td>11195</td>\n",
       "    </tr>\n",
       "    <tr>\n",
       "      <th>2374</th>\n",
       "      <td>Radiohead</td>\n",
       "      <td>10425</td>\n",
       "    </tr>\n",
       "    <tr>\n",
       "      <th>736</th>\n",
       "      <td>Daft Punk</td>\n",
       "      <td>10345</td>\n",
       "    </tr>\n",
       "    <tr>\n",
       "      <th>2073</th>\n",
       "      <td>Muse</td>\n",
       "      <td>9741</td>\n",
       "    </tr>\n",
       "    <tr>\n",
       "      <th>1554</th>\n",
       "      <td>Justin Bieber</td>\n",
       "      <td>9700</td>\n",
       "    </tr>\n",
       "  </tbody>\n",
       "</table>\n",
       "</div>"
      ],
      "text/plain": [
       "                 artist_name  listen_count\n",
       "649                 Coldplay         20477\n",
       "2850          The Black Keys         13971\n",
       "1651           Kings Of Leon         13170\n",
       "1107  Florence + The Machine         12725\n",
       "1370            Jack Johnson         12482\n",
       "2946             The Killers         11195\n",
       "2374               Radiohead         10425\n",
       "736                Daft Punk         10345\n",
       "2073                    Muse          9741\n",
       "1554           Justin Bieber          9700"
      ]
     },
     "execution_count": 43,
     "metadata": {},
     "output_type": "execute_result"
    }
   ],
   "source": [
    "ten_pop_artists = order_1[:10]\n",
    "ten_pop_artists\n"
   ]
  },
  {
   "cell_type": "code",
   "execution_count": 44,
   "id": "3931e0b9",
   "metadata": {},
   "outputs": [],
   "source": [
    "labels = ten_pop_artists['artist_name'].tolist()\n",
    "counts= ten_pop_artists['listen_count'].tolist()"
   ]
  },
  {
   "cell_type": "code",
   "execution_count": 55,
   "id": "09be8a56",
   "metadata": {},
   "outputs": [
    {
     "data": {
      "image/png": "[encoded data removed]",
      "text/plain": [
       "<Figure size 432x288 with 1 Axes>"
      ]
     },
     "metadata": {
      "needs_background": "light"
     },
     "output_type": "display_data"
    }
   ],
   "source": [
    "plt.figure()\n",
    "sns.barplot(x=counts, y=labels, palette='Set2')\n",
    "sns.despine(left=True, bottom=True)"
   ]
  },
  {
   "cell_type": "markdown",
   "id": "020035fb",
   "metadata": {},
   "source": [
    "### Creating matrix"
   ]
  },
  {
   "cell_type": "code",
   "execution_count": 56,
   "id": "ab526289",
   "metadata": {},
   "outputs": [],
   "source": [
    "song_user = df_song_com.groupby('user_id')['song_id'].count()"
   ]
  },
  {
   "cell_type": "code",
   "execution_count": 57,
   "id": "31abac6f",
   "metadata": {},
   "outputs": [
    {
     "name": "stdout",
     "output_type": "stream",
     "text": [
      "A user listens to an average of 26.194124657839247 songs\n"
     ]
    }
   ],
   "source": [
    "print(f\"A user listens to an average of {np.mean(song_user)} songs\")"
   ]
  },
  {
   "cell_type": "code",
   "execution_count": 58,
   "id": "2d77eb18",
   "metadata": {
    "scrolled": true
   },
   "outputs": [
    {
     "name": "stdout",
     "output_type": "stream",
     "text": [
      "A user listens to an average of 16.0 songs, with minimum 1 and maximum 711 songs\n"
     ]
    }
   ],
   "source": [
    "print(f\"A user listens to an average of {np.median(song_user)} songs, with minimum {np.min(song_user)} and maximum {np.max(song_user)} songs\")"
   ]
  },
  {
   "cell_type": "code",
   "execution_count": 59,
   "id": "e21b0c4f",
   "metadata": {},
   "outputs": [],
   "source": [
    "song_ten_id = song_user[song_user > 16].index.to_list()"
   ]
  },
  {
   "cell_type": "code",
   "execution_count": 60,
   "id": "827ee455",
   "metadata": {},
   "outputs": [],
   "source": [
    "# Filtered the dataset to keep only those users with more than 16 listened\n",
    "df_song_id_more_ten =  df_song[ df_song['user_id'].isin(song_ten_id)].reset_index(drop=True)"
   ]
  },
  {
   "cell_type": "code",
   "execution_count": 61,
   "id": "7f2582f4",
   "metadata": {},
   "outputs": [],
   "source": [
    "# convert the dataframe into a pivot table\n",
    "df_songs_features = df_song_id_more_ten.pivot(index='song_id', columns='user_id', values='listen_count').fillna(0)\n",
    "\n",
    "# obtain a sparse matrix\n",
    "mat_songs_features = csr_matrix(df_songs_features.values)"
   ]
  },
  {
   "cell_type": "code",
   "execution_count": 62,
   "id": "5605f43b",
   "metadata": {},
   "outputs": [],
   "source": [
    "df_unique_songs = df_song.drop_duplicates(subset=['song_id']).reset_index(drop=True)[['song_id', 'song']]"
   ]
  },
  {
   "cell_type": "code",
   "execution_count": 63,
   "id": "72b91503",
   "metadata": {},
   "outputs": [],
   "source": [
    "decode_id_song = {\n",
    "    song: i for i, song in \n",
    "    enumerate(list(df_unique_songs.set_index('song_id').loc[df_songs_features.index].song))\n",
    "}"
   ]
  },
  {
   "cell_type": "markdown",
   "id": "8d5ca95a",
   "metadata": {},
   "source": [
    "## COLLABORATIVE BASED MODEL"
   ]
  },
  {
   "cell_type": "code",
   "execution_count": 64,
   "id": "61d7ef83",
   "metadata": {},
   "outputs": [
    {
     "name": "stderr",
     "output_type": "stream",
     "text": [
      "c:\\python39\\lib\\site-packages\\fuzzywuzzy\\fuzz.py:11: UserWarning: Using slow pure-python SequenceMatcher. Install python-Levenshtein to remove this warning\n",
      "  warnings.warn('Using slow pure-python SequenceMatcher. Install python-Levenshtein to remove this warning')\n"
     ]
    }
   ],
   "source": [
    "import numpy as np\n",
    "import pandas\n",
    "from sklearn.neighbors import NearestNeighbors\n",
    "from fuzzywuzzy import fuzz"
   ]
  },
  {
   "cell_type": "code",
   "execution_count": 65,
   "id": "35e17530",
   "metadata": {},
   "outputs": [],
   "source": [
    "#model = NearestNeighbors(metric='cosine', algorithm='brute', n_neighbors=20, n_jobs=-1).fit(mat_songs_features)"
   ]
  },
  {
   "cell_type": "code",
   "execution_count": 68,
   "id": "ab1120dd",
   "metadata": {},
   "outputs": [
    {
     "ename": "NameError",
     "evalue": "name 'Collaborate' is not defined",
     "output_type": "error",
     "traceback": [
      "\u001b[1;31m---------------------------------------------------------------------------\u001b[0m",
      "\u001b[1;31mNameError\u001b[0m                                 Traceback (most recent call last)",
      "Input \u001b[1;32mIn [68]\u001b[0m, in \u001b[0;36m<cell line: 1>\u001b[1;34m()\u001b[0m\n\u001b[1;32m----> 1\u001b[0m our_model \u001b[38;5;241m=\u001b[39m \u001b[43mCollaborate\u001b[49m\u001b[38;5;241m.\u001b[39mRecommender(metric\u001b[38;5;241m=\u001b[39m\u001b[38;5;124m'\u001b[39m\u001b[38;5;124mcosine\u001b[39m\u001b[38;5;124m'\u001b[39m, algorithm\u001b[38;5;241m=\u001b[39m\u001b[38;5;124m'\u001b[39m\u001b[38;5;124mbrute\u001b[39m\u001b[38;5;124m'\u001b[39m, k\u001b[38;5;241m=\u001b[39m\u001b[38;5;241m20\u001b[39m, data\u001b[38;5;241m=\u001b[39mmat_songs_features, decode_id_song\u001b[38;5;241m=\u001b[39mdecode_id_song)\n",
      "\u001b[1;31mNameError\u001b[0m: name 'Collaborate' is not defined"
     ]
    }
   ],
   "source": [
    "our_model = Collaborate.Recommender(metric='cosine', algorithm='brute', k=20, data=mat_songs_features, decode_id_song=decode_id_song)"
   ]
  },
  {
   "cell_type": "code",
   "execution_count": null,
   "id": "c960e601",
   "metadata": {},
   "outputs": [],
   "source": [
    "song = 'Rock Star'"
   ]
  },
  {
   "cell_type": "code",
   "execution_count": null,
   "id": "486af25d",
   "metadata": {},
   "outputs": [],
   "source": [
    "new_recommendations = our_model.make_recommendation(new_song=song, n_recommendations=10)"
   ]
  },
  {
   "cell_type": "code",
   "execution_count": null,
   "id": "b4ef91a1",
   "metadata": {},
   "outputs": [],
   "source": [
    "new_recommendations"
   ]
  },
  {
   "cell_type": "code",
   "execution_count": null,
   "id": "bbe3b100",
   "metadata": {},
   "outputs": [],
   "source": [
    "import pickle"
   ]
  },
  {
   "cell_type": "code",
   "execution_count": null,
   "id": "6141a3a7",
   "metadata": {},
   "outputs": [],
   "source": [
    "pickle.dump(our_model.model,open('model1.pkl','wb'))"
   ]
  },
  {
   "cell_type": "code",
   "execution_count": 67,
   "id": "aad7adbc",
   "metadata": {},
   "outputs": [
    {
     "ename": "NameError",
     "evalue": "name 'our_model' is not defined",
     "output_type": "error",
     "traceback": [
      "\u001b[1;31m---------------------------------------------------------------------------\u001b[0m",
      "\u001b[1;31mNameError\u001b[0m                                 Traceback (most recent call last)",
      "Input \u001b[1;32mIn [67]\u001b[0m, in \u001b[0;36m<cell line: 1>\u001b[1;34m()\u001b[0m\n\u001b[1;32m----> 1\u001b[0m \u001b[43mour_model\u001b[49m\u001b[38;5;241m.\u001b[39mmodel\u001b[38;5;241m.\u001b[39mpredict([\u001b[38;5;124m'\u001b[39m\u001b[38;5;124mHey_ Soul Sister\u001b[39m\u001b[38;5;124m'\u001b[39m])\n",
      "\u001b[1;31mNameError\u001b[0m: name 'our_model' is not defined"
     ]
    }
   ],
   "source": [
    "our_model.model.predict(['Hey_ Soul Sister'])"
   ]
  },
  {
   "cell_type": "code",
   "execution_count": null,
   "id": "2f337a7c",
   "metadata": {},
   "outputs": [],
   "source": []
  },
  {
   "cell_type": "code",
   "execution_count": null,
   "id": "7266724c",
   "metadata": {},
   "outputs": [],
   "source": []
  },
  {
   "cell_type": "code",
   "execution_count": null,
   "id": "fc89b60f",
   "metadata": {},
   "outputs": [],
   "source": []
  },
  {
   "cell_type": "code",
   "execution_count": null,
   "id": "5042d691",
   "metadata": {},
   "outputs": [],
   "source": []
  },
  {
   "cell_type": "code",
   "execution_count": null,
   "id": "f05fd966",
   "metadata": {},
   "outputs": [],
   "source": []
  },
  {
   "cell_type": "code",
   "execution_count": null,
   "id": "f0224f02",
   "metadata": {},
   "outputs": [],
   "source": []
  },
  {
   "cell_type": "code",
   "execution_count": null,
   "id": "03d136ea",
   "metadata": {},
   "outputs": [],
   "source": []
  },
  {
   "cell_type": "code",
   "execution_count": null,
   "id": "92a671ab",
   "metadata": {},
   "outputs": [],
   "source": [
    "    "
   ]
  },
  {
   "cell_type": "code",
   "execution_count": null,
   "id": "eadfd0b8",
   "metadata": {},
   "outputs": [],
   "source": []
  }
 ],
 "metadata": {
  "kernelspec": {
   "display_name": "Python 3 (ipykernel)",
   "language": "python",
   "name": "python3"
  },
  "language_info": {
   "codemirror_mode": {
    "name": "ipython",
    "version": 3
   },
   "file_extension": ".py",
   "mimetype": "text/x-python",
   "name": "python",
   "nbconvert_exporter": "python",
   "pygments_lexer": "ipython3",
   "version": "3.9.7"
  }
 },
 "nbformat": 4,
 "nbformat_minor": 5
}
