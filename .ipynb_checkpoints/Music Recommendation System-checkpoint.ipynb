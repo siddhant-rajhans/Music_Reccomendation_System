{
 "cells": [
  {
   "cell_type": "code",
   "execution_count": null,
   "id": "dc69ebca",
   "metadata": {},
   "outputs": [],
   "source": []
  },
  {
   "cell_type": "markdown",
   "id": "cba07c14",
   "metadata": {},
   "source": [
    "#### Import Libraries"
   ]
  },
  {
   "cell_type": "code",
   "execution_count": 6,
   "id": "c4be5880",
   "metadata": {},
   "outputs": [
    {
     "ename": "ModuleNotFoundError",
     "evalue": "No module named 'fuzzywuzzy'",
     "output_type": "error",
     "traceback": [
      "\u001b[1;31m---------------------------------------------------------------------------\u001b[0m",
      "\u001b[1;31mModuleNotFoundError\u001b[0m                       Traceback (most recent call last)",
      "Cell \u001b[1;32mIn[6], line 5\u001b[0m\n\u001b[0;32m      3\u001b[0m \u001b[38;5;28;01mimport\u001b[39;00m \u001b[38;5;21;01mmatplotlib\u001b[39;00m\u001b[38;5;21;01m.\u001b[39;00m\u001b[38;5;21;01mpyplot\u001b[39;00m \u001b[38;5;28;01mas\u001b[39;00m \u001b[38;5;21;01mplt\u001b[39;00m\n\u001b[0;32m      4\u001b[0m \u001b[38;5;28;01mimport\u001b[39;00m \u001b[38;5;21;01mseaborn\u001b[39;00m \u001b[38;5;28;01mas\u001b[39;00m \u001b[38;5;21;01msns\u001b[39;00m\n\u001b[1;32m----> 5\u001b[0m \u001b[38;5;28;01mimport\u001b[39;00m \u001b[38;5;21;01mCollaborate\u001b[39;00m \u001b[38;5;28;01mas\u001b[39;00m \u001b[38;5;21;01mCollab\u001b[39;00m\n",
      "File \u001b[1;32mE:\\Projects\\ML\\tanacious amazing notes(tan)\\MRS_Tan\\Collaborate.py:4\u001b[0m\n\u001b[0;32m      2\u001b[0m \u001b[38;5;28;01mimport\u001b[39;00m \u001b[38;5;21;01mpandas\u001b[39;00m \u001b[38;5;28;01mas\u001b[39;00m \u001b[38;5;21;01mpd\u001b[39;00m\n\u001b[0;32m      3\u001b[0m \u001b[38;5;28;01mfrom\u001b[39;00m \u001b[38;5;21;01msklearn\u001b[39;00m\u001b[38;5;21;01m.\u001b[39;00m\u001b[38;5;21;01mneighbors\u001b[39;00m \u001b[38;5;28;01mimport\u001b[39;00m NearestNeighbors\n\u001b[1;32m----> 4\u001b[0m \u001b[38;5;28;01mfrom\u001b[39;00m \u001b[38;5;21;01mfuzzywuzzy\u001b[39;00m \u001b[38;5;28;01mimport\u001b[39;00m fuzz\n\u001b[0;32m      6\u001b[0m \u001b[38;5;28;01mclass\u001b[39;00m \u001b[38;5;21;01mRecommender\u001b[39;00m():\n\u001b[0;32m      7\u001b[0m     \u001b[38;5;28;01mdef\u001b[39;00m \u001b[38;5;21m__init__\u001b[39m(\u001b[38;5;28mself\u001b[39m, metric, algorithm, k, data, decode_id_song):\n",
      "\u001b[1;31mModuleNotFoundError\u001b[0m: No module named 'fuzzywuzzy'"
     ]
    }
   ],
   "source": [
    "import pandas as pd\n",
    "import numpy as np\n",
    "import matplotlib.pyplot as plt\n",
    "import seaborn as sns\n",
    "import Collaborate as Collab"
   ]
  },
  {
   "cell_type": "code",
   "execution_count": null,
   "id": "88cc59cd",
   "metadata": {},
   "outputs": [],
   "source": [
    "from scipy.sparse import csr_matrix"
   ]
  },
  {
   "cell_type": "code",
   "execution_count": null,
   "id": "281ea011",
   "metadata": {},
   "outputs": [],
   "source": [
    "df_song_1 = pd.read_csv('song_data (1).csv')\n",
    "df_song_1.head()"
   ]
  },
  {
   "cell_type": "code",
   "execution_count": null,
   "id": "d833c17a",
   "metadata": {},
   "outputs": [],
   "source": [
    "df_song_2 = pd.read_csv('triplets_file.csv')\n",
    "df_song_2.head()"
   ]
  },
  {
   "cell_type": "markdown",
   "id": "4feb658a",
   "metadata": {},
   "source": [
    "#### Data Preprocessing"
   ]
  },
  {
   "cell_type": "code",
   "execution_count": null,
   "id": "a7bbd5ec",
   "metadata": {},
   "outputs": [],
   "source": [
    "df_song_1.drop_duplicates(['song_id'])"
   ]
  },
  {
   "cell_type": "code",
   "execution_count": null,
   "id": "132ff406",
   "metadata": {},
   "outputs": [],
   "source": [
    "# combining both data\n",
    "df_song_com = pd.merge(df_song_1.drop_duplicates(['song_id']), df_song_2, on='song_id', how='right')\n",
    "df_song_com.head()"
   ]
  },
  {
   "cell_type": "code",
   "execution_count": null,
   "id": "5f5b842e",
   "metadata": {
    "scrolled": true
   },
   "outputs": [],
   "source": [
    "df_song_com.describe()"
   ]
  },
  {
   "cell_type": "code",
   "execution_count": null,
   "id": "27cb3dfd",
   "metadata": {},
   "outputs": [],
   "source": [
    "df_song_com.shape"
   ]
  },
  {
   "cell_type": "markdown",
   "id": "4849201e",
   "metadata": {},
   "source": [
    "#### Feature Extraction"
   ]
  },
  {
   "cell_type": "code",
   "execution_count": null,
   "id": "ee65e6e8",
   "metadata": {},
   "outputs": [],
   "source": [
    "# creating new feature combining title and artist name\n",
    "df_song_com['song'] = df_song_com['title']+' - '+df_song_com['artist_name']\n",
    "df_song_com.head()"
   ]
  },
  {
   "cell_type": "code",
   "execution_count": null,
   "id": "e677cbde",
   "metadata": {},
   "outputs": [],
   "source": [
    "#checking null value\n",
    "df_song_com.isnull().sum()"
   ]
  },
  {
   "cell_type": "code",
   "execution_count": null,
   "id": "3b7d88e3",
   "metadata": {},
   "outputs": [],
   "source": [
    "df_song_com.shape"
   ]
  },
  {
   "cell_type": "code",
   "execution_count": null,
   "id": "cbca6b10",
   "metadata": {},
   "outputs": [],
   "source": []
  },
  {
   "cell_type": "code",
   "execution_count": null,
   "id": "cfd3a06b",
   "metadata": {},
   "outputs": [],
   "source": []
  },
  {
   "cell_type": "code",
   "execution_count": null,
   "id": "d4ad41ab",
   "metadata": {},
   "outputs": [],
   "source": [
    "df_song_com.describe()"
   ]
  },
  {
   "cell_type": "markdown",
   "id": "b75c37db",
   "metadata": {},
   "source": [
    "#### Data Splitting"
   ]
  },
  {
   "cell_type": "code",
   "execution_count": null,
   "id": "e9938afd",
   "metadata": {},
   "outputs": [],
   "source": [
    "from sklearn.model_selection import train_test_split"
   ]
  },
  {
   "cell_type": "code",
   "execution_count": null,
   "id": "9dc12110",
   "metadata": {},
   "outputs": [],
   "source": [
    "train_data, test_data = train_test_split(df_song_com, test_size = 0.30, random_state=0)"
   ]
  },
  {
   "cell_type": "code",
   "execution_count": null,
   "id": "b320d2d8",
   "metadata": {},
   "outputs": [],
   "source": [
    "train_data.head(10)"
   ]
  },
  {
   "cell_type": "code",
   "execution_count": null,
   "id": "311c53f0",
   "metadata": {},
   "outputs": [],
   "source": [
    "df_song = train_data"
   ]
  },
  {
   "cell_type": "code",
   "execution_count": null,
   "id": "a1af63a1",
   "metadata": {},
   "outputs": [],
   "source": [
    "unique_users = df_song['user_id'].unique()\n",
    "len(unique_users)"
   ]
  },
  {
   "cell_type": "code",
   "execution_count": null,
   "id": "8d23dee6",
   "metadata": {},
   "outputs": [],
   "source": [
    "unique_songs = df_song['song'].unique()  \n",
    "len(unique_songs)"
   ]
  },
  {
   "cell_type": "code",
   "execution_count": null,
   "id": "3a91e153",
   "metadata": {},
   "outputs": [],
   "source": [
    "unique_artists = df_song['artist_name'].unique()\n",
    "len(unique_artists)"
   ]
  },
  {
   "cell_type": "code",
   "execution_count": null,
   "id": "cf745f8a",
   "metadata": {},
   "outputs": [],
   "source": [
    "df_song['listen_count'].value_counts()"
   ]
  },
  {
   "cell_type": "code",
   "execution_count": null,
   "id": "8de37ef8",
   "metadata": {},
   "outputs": [],
   "source": [
    "#grouping songs according to listen_count\n",
    "grouped_song = df_song.groupby(['song']).agg({'listen_count': 'count'}).reset_index()"
   ]
  },
  {
   "cell_type": "code",
   "execution_count": null,
   "id": "304079b5",
   "metadata": {},
   "outputs": [],
   "source": [
    "grouped_song"
   ]
  },
  {
   "cell_type": "code",
   "execution_count": null,
   "id": "2c9310a5",
   "metadata": {},
   "outputs": [],
   "source": [
    "sum_group = grouped_song['listen_count'].sum()"
   ]
  },
  {
   "cell_type": "code",
   "execution_count": null,
   "id": "39b550ef",
   "metadata": {},
   "outputs": [],
   "source": [
    "grouped_song['percentage']  = grouped_song['listen_count'].div(sum_group)*100"
   ]
  },
  {
   "cell_type": "code",
   "execution_count": null,
   "id": "941201a1",
   "metadata": {},
   "outputs": [],
   "source": [
    "grouped_song"
   ]
  },
  {
   "cell_type": "markdown",
   "id": "2525fee9",
   "metadata": {},
   "source": [
    "#### Top 10 songs"
   ]
  },
  {
   "cell_type": "code",
   "execution_count": null,
   "id": "5dd0d7c8",
   "metadata": {},
   "outputs": [],
   "source": [
    "order=grouped_song.sort_values(['listen_count', 'song'], ascending =[0,1])"
   ]
  },
  {
   "cell_type": "code",
   "execution_count": null,
   "id": "e1a66ccc",
   "metadata": {},
   "outputs": [],
   "source": [
    "top_ten_songs = order[:10]\n",
    "top_ten_songs"
   ]
  },
  {
   "cell_type": "code",
   "execution_count": null,
   "id": "b053bade",
   "metadata": {},
   "outputs": [],
   "source": [
    "labels = top_ten_songs['song'].tolist()\n",
    "counts = top_ten_songs['listen_count'].tolist()"
   ]
  },
  {
   "cell_type": "code",
   "execution_count": null,
   "id": "d2010201",
   "metadata": {
    "scrolled": true
   },
   "outputs": [],
   "source": [
    "plt.figure()\n",
    "sns.barplot(x=counts, y=labels, palette='Set3')\n",
    "sns.despine(left=True, bottom=True)"
   ]
  },
  {
   "cell_type": "markdown",
   "id": "6005ec56",
   "metadata": {},
   "source": [
    "#### Top 10 Artist"
   ]
  },
  {
   "cell_type": "code",
   "execution_count": null,
   "id": "366fb6ba",
   "metadata": {},
   "outputs": [],
   "source": [
    "order_1 = df_song.groupby(['artist_name'])['listen_count'].count().reset_index().sort_values(['listen_count', 'artist_name'], \n",
    "                                                                                                ascending = [0,1])"
   ]
  },
  {
   "cell_type": "code",
   "execution_count": null,
   "id": "5e93374d",
   "metadata": {},
   "outputs": [],
   "source": [
    "ten_pop_artists = order_1[:10]\n",
    "ten_pop_artists\n"
   ]
  },
  {
   "cell_type": "code",
   "execution_count": null,
   "id": "3931e0b9",
   "metadata": {},
   "outputs": [],
   "source": [
    "labels = ten_pop_artists['artist_name'].tolist()\n",
    "counts= ten_pop_artists['listen_count'].tolist()"
   ]
  },
  {
   "cell_type": "code",
   "execution_count": null,
   "id": "09be8a56",
   "metadata": {},
   "outputs": [],
   "source": [
    "plt.figure()\n",
    "sns.barplot(x=counts, y=labels, palette='Set2')\n",
    "sns.despine(left=True, bottom=True)"
   ]
  },
  {
   "cell_type": "markdown",
   "id": "020035fb",
   "metadata": {},
   "source": [
    "### Creating matrix"
   ]
  },
  {
   "cell_type": "code",
   "execution_count": null,
   "id": "ab526289",
   "metadata": {},
   "outputs": [],
   "source": [
    "song_user = df_song_com.groupby('user_id')['song_id'].count()"
   ]
  },
  {
   "cell_type": "code",
   "execution_count": null,
   "id": "31abac6f",
   "metadata": {},
   "outputs": [],
   "source": [
    "print(f\"A user listens to an average of {np.mean(song_user)} songs\")"
   ]
  },
  {
   "cell_type": "code",
   "execution_count": null,
   "id": "2d77eb18",
   "metadata": {
    "scrolled": true
   },
   "outputs": [],
   "source": [
    "print(f\"A user listens to an average of {np.median(song_user)} songs, with minimum {np.min(song_user)} and maximum {np.max(song_user)} songs\")"
   ]
  },
  {
   "cell_type": "code",
   "execution_count": null,
   "id": "e21b0c4f",
   "metadata": {},
   "outputs": [],
   "source": [
    "song_ten_id = song_user[song_user > 16].index.to_list()"
   ]
  },
  {
   "cell_type": "code",
   "execution_count": null,
   "id": "827ee455",
   "metadata": {},
   "outputs": [],
   "source": [
    "# Filtered the dataset to keep only those users with more than 16 listened\n",
    "df_song_id_more_ten =  df_song[ df_song['user_id'].isin(song_ten_id)].reset_index(drop=True)"
   ]
  },
  {
   "cell_type": "code",
   "execution_count": null,
   "id": "7f2582f4",
   "metadata": {},
   "outputs": [],
   "source": [
    "# convert the dataframe into a pivot table\n",
    "df_songs_features = df_song_id_more_ten.pivot(index='song_id', columns='user_id', values='listen_count').fillna(0)\n",
    "\n",
    "# obtain a sparse matrix\n",
    "mat_songs_features = csr_matrix(df_songs_features.values)"
   ]
  },
  {
   "cell_type": "code",
   "execution_count": null,
   "id": "5605f43b",
   "metadata": {},
   "outputs": [],
   "source": [
    "df_unique_songs = df_song.drop_duplicates(subset=['song_id']).reset_index(drop=True)[['song_id', 'song']]"
   ]
  },
  {
   "cell_type": "code",
   "execution_count": null,
   "id": "72b91503",
   "metadata": {},
   "outputs": [],
   "source": [
    "decode_id_song = {\n",
    "    song: i for i, song in \n",
    "    enumerate(list(df_unique_songs.set_index('song_id').loc[df_songs_features.index].song))\n",
    "}"
   ]
  },
  {
   "cell_type": "markdown",
   "id": "8d5ca95a",
   "metadata": {},
   "source": [
    "## COLLABORATIVE BASED MODEL"
   ]
  },
  {
   "cell_type": "code",
   "execution_count": null,
   "id": "61d7ef83",
   "metadata": {},
   "outputs": [],
   "source": [
    "import numpy as np\n",
    "import pandas\n",
    "from sklearn.neighbors import NearestNeighbors\n",
    "from fuzzywuzzy import fuzz"
   ]
  },
  {
   "cell_type": "code",
   "execution_count": 7,
   "id": "35e17530",
   "metadata": {},
   "outputs": [],
   "source": [
    "#model = NearestNeighbors(metric='cosine', algorithm='brute', n_neighbors=20, n_jobs=-1).fit(mat_songs_features)"
   ]
  },
  {
   "cell_type": "code",
   "execution_count": 8,
   "id": "ab1120dd",
   "metadata": {},
   "outputs": [
    {
     "ename": "NameError",
     "evalue": "name 'Collab' is not defined",
     "output_type": "error",
     "traceback": [
      "\u001b[1;31m---------------------------------------------------------------------------\u001b[0m",
      "\u001b[1;31mNameError\u001b[0m                                 Traceback (most recent call last)",
      "Cell \u001b[1;32mIn[8], line 1\u001b[0m\n\u001b[1;32m----> 1\u001b[0m our_model \u001b[38;5;241m=\u001b[39m \u001b[43mCollab\u001b[49m\u001b[38;5;241m.\u001b[39mRecommender(metric\u001b[38;5;241m=\u001b[39m\u001b[38;5;124m'\u001b[39m\u001b[38;5;124mcosine\u001b[39m\u001b[38;5;124m'\u001b[39m, algorithm\u001b[38;5;241m=\u001b[39m\u001b[38;5;124m'\u001b[39m\u001b[38;5;124mbrute\u001b[39m\u001b[38;5;124m'\u001b[39m, k\u001b[38;5;241m=\u001b[39m\u001b[38;5;241m20\u001b[39m, data\u001b[38;5;241m=\u001b[39mmat_songs_features, decode_id_song\u001b[38;5;241m=\u001b[39mdecode_id_song)\n",
      "\u001b[1;31mNameError\u001b[0m: name 'Collab' is not defined"
     ]
    }
   ],
   "source": [
    "our_model = Collab.Recommender(metric='cosine', algorithm='brute', k=20, data=mat_songs_features, decode_id_song=decode_id_song)"
   ]
  },
  {
   "cell_type": "code",
   "execution_count": null,
   "id": "c960e601",
   "metadata": {},
   "outputs": [],
   "source": [
    "song = 'Rock Star'"
   ]
  },
  {
   "cell_type": "code",
   "execution_count": null,
   "id": "486af25d",
   "metadata": {},
   "outputs": [],
   "source": [
    "new_recommendations = our_model.make_recommendation(new_song=song, n_recommendations=10)"
   ]
  },
  {
   "cell_type": "code",
   "execution_count": null,
   "id": "b4ef91a1",
   "metadata": {},
   "outputs": [],
   "source": [
    "new_recommendations"
   ]
  },
  {
   "cell_type": "code",
   "execution_count": null,
   "id": "bbe3b100",
   "metadata": {},
   "outputs": [],
   "source": [
    "import pickle"
   ]
  },
  {
   "cell_type": "code",
   "execution_count": null,
   "id": "6141a3a7",
   "metadata": {},
   "outputs": [],
   "source": [
    "pickle.dump(our_model.model,open('model1.pkl','wb'))"
   ]
  },
  {
   "cell_type": "code",
   "execution_count": null,
   "id": "aad7adbc",
   "metadata": {},
   "outputs": [],
   "source": [
    "new_recommendations(['Hey_ Soul Sister'])"
   ]
  },
  {
   "cell_type": "code",
   "execution_count": null,
   "id": "2f337a7c",
   "metadata": {},
   "outputs": [],
   "source": []
  },
  {
   "cell_type": "code",
   "execution_count": null,
   "id": "7266724c",
   "metadata": {},
   "outputs": [],
   "source": []
  },
  {
   "cell_type": "code",
   "execution_count": null,
   "id": "fc89b60f",
   "metadata": {},
   "outputs": [],
   "source": []
  },
  {
   "cell_type": "code",
   "execution_count": null,
   "id": "5042d691",
   "metadata": {},
   "outputs": [],
   "source": []
  },
  {
   "cell_type": "code",
   "execution_count": null,
   "id": "f05fd966",
   "metadata": {},
   "outputs": [],
   "source": []
  },
  {
   "cell_type": "code",
   "execution_count": null,
   "id": "f0224f02",
   "metadata": {},
   "outputs": [],
   "source": []
  },
  {
   "cell_type": "code",
   "execution_count": null,
   "id": "03d136ea",
   "metadata": {},
   "outputs": [],
   "source": []
  },
  {
   "cell_type": "code",
   "execution_count": null,
   "id": "92a671ab",
   "metadata": {},
   "outputs": [],
   "source": [
    "    "
   ]
  },
  {
   "cell_type": "code",
   "execution_count": null,
   "id": "eadfd0b8",
   "metadata": {},
   "outputs": [],
   "source": []
  }
 ],
 "metadata": {
  "interpreter": {
   "hash": "db6aa72fdc1589c2df27b2c2bedb9bd929908353dab6c2778e91a96b96e474f0"
  },
  "kernelspec": {
   "display_name": "Python 3 (ipykernel)",
   "language": "python",
   "name": "python3"
  },
  "language_info": {
   "codemirror_mode": {
    "name": "ipython",
    "version": 3
   },
   "file_extension": ".py",
   "mimetype": "text/x-python",
   "name": "python",
   "nbconvert_exporter": "python",
   "pygments_lexer": "ipython3",
   "version": "3.9.7"
  }
 },
 "nbformat": 4,
 "nbformat_minor": 5
}
